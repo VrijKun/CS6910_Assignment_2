{
  "nbformat": 4,
  "nbformat_minor": 0,
  "metadata": {
    "colab": {
      "provenance": [],
      "mount_file_id": "1RdMxrgspK9lBNtuDhi_MOfOfHhv2TXbP",
      "authorship_tag": "ABX9TyMoSgS3FqLqQfiBLJFRdKEN",
      "include_colab_link": true
    },
    "kernelspec": {
      "name": "python3",
      "display_name": "Python 3"
    },
    "language_info": {
      "name": "python"
    },
    "widgets": {
      "application/vnd.jupyter.widget-state+json": {
        "cb51a6360d524291aa2b49b8bc77f74d": {
          "model_module": "@jupyter-widgets/controls",
          "model_name": "VBoxModel",
          "model_module_version": "1.5.0",
          "state": {
            "_dom_classes": [],
            "_model_module": "@jupyter-widgets/controls",
            "_model_module_version": "1.5.0",
            "_model_name": "VBoxModel",
            "_view_count": null,
            "_view_module": "@jupyter-widgets/controls",
            "_view_module_version": "1.5.0",
            "_view_name": "VBoxView",
            "box_style": "",
            "children": [
              "IPY_MODEL_c5ae38d594a740b39d5281ceb828dd8d",
              "IPY_MODEL_f25080b7b2ce4d979ff0a4ae93b3612a"
            ],
            "layout": "IPY_MODEL_4cbdc85fdd0c4922a1944b81efbbd461"
          }
        },
        "c5ae38d594a740b39d5281ceb828dd8d": {
          "model_module": "@jupyter-widgets/controls",
          "model_name": "LabelModel",
          "model_module_version": "1.5.0",
          "state": {
            "_dom_classes": [],
            "_model_module": "@jupyter-widgets/controls",
            "_model_module_version": "1.5.0",
            "_model_name": "LabelModel",
            "_view_count": null,
            "_view_module": "@jupyter-widgets/controls",
            "_view_module_version": "1.5.0",
            "_view_name": "LabelView",
            "description": "",
            "description_tooltip": null,
            "layout": "IPY_MODEL_32a1dde66b5b4af994d379c30edea625",
            "placeholder": "​",
            "style": "IPY_MODEL_9ecdbf5ef7ce493998ca535271ccbf36",
            "value": "0.011 MB of 0.011 MB uploaded\r"
          }
        },
        "f25080b7b2ce4d979ff0a4ae93b3612a": {
          "model_module": "@jupyter-widgets/controls",
          "model_name": "FloatProgressModel",
          "model_module_version": "1.5.0",
          "state": {
            "_dom_classes": [],
            "_model_module": "@jupyter-widgets/controls",
            "_model_module_version": "1.5.0",
            "_model_name": "FloatProgressModel",
            "_view_count": null,
            "_view_module": "@jupyter-widgets/controls",
            "_view_module_version": "1.5.0",
            "_view_name": "ProgressView",
            "bar_style": "",
            "description": "",
            "description_tooltip": null,
            "layout": "IPY_MODEL_4a3510d85c754b56b52ed1cc2d38552d",
            "max": 1,
            "min": 0,
            "orientation": "horizontal",
            "style": "IPY_MODEL_f0de4235ba6b4795af51d7c8a9d0306e",
            "value": 1
          }
        },
        "4cbdc85fdd0c4922a1944b81efbbd461": {
          "model_module": "@jupyter-widgets/base",
          "model_name": "LayoutModel",
          "model_module_version": "1.2.0",
          "state": {
            "_model_module": "@jupyter-widgets/base",
            "_model_module_version": "1.2.0",
            "_model_name": "LayoutModel",
            "_view_count": null,
            "_view_module": "@jupyter-widgets/base",
            "_view_module_version": "1.2.0",
            "_view_name": "LayoutView",
            "align_content": null,
            "align_items": null,
            "align_self": null,
            "border": null,
            "bottom": null,
            "display": null,
            "flex": null,
            "flex_flow": null,
            "grid_area": null,
            "grid_auto_columns": null,
            "grid_auto_flow": null,
            "grid_auto_rows": null,
            "grid_column": null,
            "grid_gap": null,
            "grid_row": null,
            "grid_template_areas": null,
            "grid_template_columns": null,
            "grid_template_rows": null,
            "height": null,
            "justify_content": null,
            "justify_items": null,
            "left": null,
            "margin": null,
            "max_height": null,
            "max_width": null,
            "min_height": null,
            "min_width": null,
            "object_fit": null,
            "object_position": null,
            "order": null,
            "overflow": null,
            "overflow_x": null,
            "overflow_y": null,
            "padding": null,
            "right": null,
            "top": null,
            "visibility": null,
            "width": null
          }
        },
        "32a1dde66b5b4af994d379c30edea625": {
          "model_module": "@jupyter-widgets/base",
          "model_name": "LayoutModel",
          "model_module_version": "1.2.0",
          "state": {
            "_model_module": "@jupyter-widgets/base",
            "_model_module_version": "1.2.0",
            "_model_name": "LayoutModel",
            "_view_count": null,
            "_view_module": "@jupyter-widgets/base",
            "_view_module_version": "1.2.0",
            "_view_name": "LayoutView",
            "align_content": null,
            "align_items": null,
            "align_self": null,
            "border": null,
            "bottom": null,
            "display": null,
            "flex": null,
            "flex_flow": null,
            "grid_area": null,
            "grid_auto_columns": null,
            "grid_auto_flow": null,
            "grid_auto_rows": null,
            "grid_column": null,
            "grid_gap": null,
            "grid_row": null,
            "grid_template_areas": null,
            "grid_template_columns": null,
            "grid_template_rows": null,
            "height": null,
            "justify_content": null,
            "justify_items": null,
            "left": null,
            "margin": null,
            "max_height": null,
            "max_width": null,
            "min_height": null,
            "min_width": null,
            "object_fit": null,
            "object_position": null,
            "order": null,
            "overflow": null,
            "overflow_x": null,
            "overflow_y": null,
            "padding": null,
            "right": null,
            "top": null,
            "visibility": null,
            "width": null
          }
        },
        "9ecdbf5ef7ce493998ca535271ccbf36": {
          "model_module": "@jupyter-widgets/controls",
          "model_name": "DescriptionStyleModel",
          "model_module_version": "1.5.0",
          "state": {
            "_model_module": "@jupyter-widgets/controls",
            "_model_module_version": "1.5.0",
            "_model_name": "DescriptionStyleModel",
            "_view_count": null,
            "_view_module": "@jupyter-widgets/base",
            "_view_module_version": "1.2.0",
            "_view_name": "StyleView",
            "description_width": ""
          }
        },
        "4a3510d85c754b56b52ed1cc2d38552d": {
          "model_module": "@jupyter-widgets/base",
          "model_name": "LayoutModel",
          "model_module_version": "1.2.0",
          "state": {
            "_model_module": "@jupyter-widgets/base",
            "_model_module_version": "1.2.0",
            "_model_name": "LayoutModel",
            "_view_count": null,
            "_view_module": "@jupyter-widgets/base",
            "_view_module_version": "1.2.0",
            "_view_name": "LayoutView",
            "align_content": null,
            "align_items": null,
            "align_self": null,
            "border": null,
            "bottom": null,
            "display": null,
            "flex": null,
            "flex_flow": null,
            "grid_area": null,
            "grid_auto_columns": null,
            "grid_auto_flow": null,
            "grid_auto_rows": null,
            "grid_column": null,
            "grid_gap": null,
            "grid_row": null,
            "grid_template_areas": null,
            "grid_template_columns": null,
            "grid_template_rows": null,
            "height": null,
            "justify_content": null,
            "justify_items": null,
            "left": null,
            "margin": null,
            "max_height": null,
            "max_width": null,
            "min_height": null,
            "min_width": null,
            "object_fit": null,
            "object_position": null,
            "order": null,
            "overflow": null,
            "overflow_x": null,
            "overflow_y": null,
            "padding": null,
            "right": null,
            "top": null,
            "visibility": null,
            "width": null
          }
        },
        "f0de4235ba6b4795af51d7c8a9d0306e": {
          "model_module": "@jupyter-widgets/controls",
          "model_name": "ProgressStyleModel",
          "model_module_version": "1.5.0",
          "state": {
            "_model_module": "@jupyter-widgets/controls",
            "_model_module_version": "1.5.0",
            "_model_name": "ProgressStyleModel",
            "_view_count": null,
            "_view_module": "@jupyter-widgets/base",
            "_view_module_version": "1.2.0",
            "_view_name": "StyleView",
            "bar_color": null,
            "description_width": ""
          }
        },
        "9f2687ca2c0b4e4da7faf127e44bd9c2": {
          "model_module": "@jupyter-widgets/controls",
          "model_name": "VBoxModel",
          "model_module_version": "1.5.0",
          "state": {
            "_dom_classes": [],
            "_model_module": "@jupyter-widgets/controls",
            "_model_module_version": "1.5.0",
            "_model_name": "VBoxModel",
            "_view_count": null,
            "_view_module": "@jupyter-widgets/controls",
            "_view_module_version": "1.5.0",
            "_view_name": "VBoxView",
            "box_style": "",
            "children": [
              "IPY_MODEL_cd03c4f6ba23494cb56d712531e2c765",
              "IPY_MODEL_6f9a914a619948b5a43bd2e5ee437dc2"
            ],
            "layout": "IPY_MODEL_ed1b24593d4b40169d8dacfd230b584b"
          }
        },
        "cd03c4f6ba23494cb56d712531e2c765": {
          "model_module": "@jupyter-widgets/controls",
          "model_name": "LabelModel",
          "model_module_version": "1.5.0",
          "state": {
            "_dom_classes": [],
            "_model_module": "@jupyter-widgets/controls",
            "_model_module_version": "1.5.0",
            "_model_name": "LabelModel",
            "_view_count": null,
            "_view_module": "@jupyter-widgets/controls",
            "_view_module_version": "1.5.0",
            "_view_name": "LabelView",
            "description": "",
            "description_tooltip": null,
            "layout": "IPY_MODEL_f1b09407bd5a4a7988c523c207bab4e6",
            "placeholder": "​",
            "style": "IPY_MODEL_5075083041e04cb5a20dff5994445ba4",
            "value": "0.011 MB of 0.011 MB uploaded\r"
          }
        },
        "6f9a914a619948b5a43bd2e5ee437dc2": {
          "model_module": "@jupyter-widgets/controls",
          "model_name": "FloatProgressModel",
          "model_module_version": "1.5.0",
          "state": {
            "_dom_classes": [],
            "_model_module": "@jupyter-widgets/controls",
            "_model_module_version": "1.5.0",
            "_model_name": "FloatProgressModel",
            "_view_count": null,
            "_view_module": "@jupyter-widgets/controls",
            "_view_module_version": "1.5.0",
            "_view_name": "ProgressView",
            "bar_style": "",
            "description": "",
            "description_tooltip": null,
            "layout": "IPY_MODEL_cc897c81bdea41c9a7ff9c5f26a9f0c9",
            "max": 1,
            "min": 0,
            "orientation": "horizontal",
            "style": "IPY_MODEL_3953e2db518b41c5838dfae8a0bc1199",
            "value": 1
          }
        },
        "ed1b24593d4b40169d8dacfd230b584b": {
          "model_module": "@jupyter-widgets/base",
          "model_name": "LayoutModel",
          "model_module_version": "1.2.0",
          "state": {
            "_model_module": "@jupyter-widgets/base",
            "_model_module_version": "1.2.0",
            "_model_name": "LayoutModel",
            "_view_count": null,
            "_view_module": "@jupyter-widgets/base",
            "_view_module_version": "1.2.0",
            "_view_name": "LayoutView",
            "align_content": null,
            "align_items": null,
            "align_self": null,
            "border": null,
            "bottom": null,
            "display": null,
            "flex": null,
            "flex_flow": null,
            "grid_area": null,
            "grid_auto_columns": null,
            "grid_auto_flow": null,
            "grid_auto_rows": null,
            "grid_column": null,
            "grid_gap": null,
            "grid_row": null,
            "grid_template_areas": null,
            "grid_template_columns": null,
            "grid_template_rows": null,
            "height": null,
            "justify_content": null,
            "justify_items": null,
            "left": null,
            "margin": null,
            "max_height": null,
            "max_width": null,
            "min_height": null,
            "min_width": null,
            "object_fit": null,
            "object_position": null,
            "order": null,
            "overflow": null,
            "overflow_x": null,
            "overflow_y": null,
            "padding": null,
            "right": null,
            "top": null,
            "visibility": null,
            "width": null
          }
        },
        "f1b09407bd5a4a7988c523c207bab4e6": {
          "model_module": "@jupyter-widgets/base",
          "model_name": "LayoutModel",
          "model_module_version": "1.2.0",
          "state": {
            "_model_module": "@jupyter-widgets/base",
            "_model_module_version": "1.2.0",
            "_model_name": "LayoutModel",
            "_view_count": null,
            "_view_module": "@jupyter-widgets/base",
            "_view_module_version": "1.2.0",
            "_view_name": "LayoutView",
            "align_content": null,
            "align_items": null,
            "align_self": null,
            "border": null,
            "bottom": null,
            "display": null,
            "flex": null,
            "flex_flow": null,
            "grid_area": null,
            "grid_auto_columns": null,
            "grid_auto_flow": null,
            "grid_auto_rows": null,
            "grid_column": null,
            "grid_gap": null,
            "grid_row": null,
            "grid_template_areas": null,
            "grid_template_columns": null,
            "grid_template_rows": null,
            "height": null,
            "justify_content": null,
            "justify_items": null,
            "left": null,
            "margin": null,
            "max_height": null,
            "max_width": null,
            "min_height": null,
            "min_width": null,
            "object_fit": null,
            "object_position": null,
            "order": null,
            "overflow": null,
            "overflow_x": null,
            "overflow_y": null,
            "padding": null,
            "right": null,
            "top": null,
            "visibility": null,
            "width": null
          }
        },
        "5075083041e04cb5a20dff5994445ba4": {
          "model_module": "@jupyter-widgets/controls",
          "model_name": "DescriptionStyleModel",
          "model_module_version": "1.5.0",
          "state": {
            "_model_module": "@jupyter-widgets/controls",
            "_model_module_version": "1.5.0",
            "_model_name": "DescriptionStyleModel",
            "_view_count": null,
            "_view_module": "@jupyter-widgets/base",
            "_view_module_version": "1.2.0",
            "_view_name": "StyleView",
            "description_width": ""
          }
        },
        "cc897c81bdea41c9a7ff9c5f26a9f0c9": {
          "model_module": "@jupyter-widgets/base",
          "model_name": "LayoutModel",
          "model_module_version": "1.2.0",
          "state": {
            "_model_module": "@jupyter-widgets/base",
            "_model_module_version": "1.2.0",
            "_model_name": "LayoutModel",
            "_view_count": null,
            "_view_module": "@jupyter-widgets/base",
            "_view_module_version": "1.2.0",
            "_view_name": "LayoutView",
            "align_content": null,
            "align_items": null,
            "align_self": null,
            "border": null,
            "bottom": null,
            "display": null,
            "flex": null,
            "flex_flow": null,
            "grid_area": null,
            "grid_auto_columns": null,
            "grid_auto_flow": null,
            "grid_auto_rows": null,
            "grid_column": null,
            "grid_gap": null,
            "grid_row": null,
            "grid_template_areas": null,
            "grid_template_columns": null,
            "grid_template_rows": null,
            "height": null,
            "justify_content": null,
            "justify_items": null,
            "left": null,
            "margin": null,
            "max_height": null,
            "max_width": null,
            "min_height": null,
            "min_width": null,
            "object_fit": null,
            "object_position": null,
            "order": null,
            "overflow": null,
            "overflow_x": null,
            "overflow_y": null,
            "padding": null,
            "right": null,
            "top": null,
            "visibility": null,
            "width": null
          }
        },
        "3953e2db518b41c5838dfae8a0bc1199": {
          "model_module": "@jupyter-widgets/controls",
          "model_name": "ProgressStyleModel",
          "model_module_version": "1.5.0",
          "state": {
            "_model_module": "@jupyter-widgets/controls",
            "_model_module_version": "1.5.0",
            "_model_name": "ProgressStyleModel",
            "_view_count": null,
            "_view_module": "@jupyter-widgets/base",
            "_view_module_version": "1.2.0",
            "_view_name": "StyleView",
            "bar_color": null,
            "description_width": ""
          }
        }
      }
    }
  },
  "cells": [
    {
      "cell_type": "markdown",
      "metadata": {
        "id": "view-in-github",
        "colab_type": "text"
      },
      "source": [
        "<a href=\"https://colab.research.google.com/github/VrijKun/CS6910_Assignment_2/blob/main/Assignment_2_DL_ED23D015.ipynb\" target=\"_parent\"><img src=\"https://colab.research.google.com/assets/colab-badge.svg\" alt=\"Open In Colab\"/></a>"
      ]
    },
    {
      "cell_type": "markdown",
      "source": [
        "In Part A and Part B of this assignment you will build and experiment with CNN based image classifiers using a subset of the iNaturalist dataset. In Part C you will take a pre-trained object detection model and use it for a novel application."
      ],
      "metadata": {
        "id": "-OdaiLPxnVqA"
      }
    },
    {
      "cell_type": "code",
      "source": [
        "pip install --upgrade pytorch-lightning"
      ],
      "metadata": {
        "colab": {
          "base_uri": "https://localhost:8080/"
        },
        "id": "IOfu8JkH5KN3",
        "outputId": "cdb1e2aa-792a-4f4a-8239-ae901e1a7d2e"
      },
      "execution_count": 45,
      "outputs": [
        {
          "output_type": "stream",
          "name": "stdout",
          "text": [
            "Requirement already satisfied: pytorch-lightning in /usr/local/lib/python3.10/dist-packages (2.2.1)\n",
            "Requirement already satisfied: numpy>=1.17.2 in /usr/local/lib/python3.10/dist-packages (from pytorch-lightning) (1.25.2)\n",
            "Requirement already satisfied: torch>=1.13.0 in /usr/local/lib/python3.10/dist-packages (from pytorch-lightning) (2.2.1+cu121)\n",
            "Requirement already satisfied: tqdm>=4.57.0 in /usr/local/lib/python3.10/dist-packages (from pytorch-lightning) (4.66.2)\n",
            "Requirement already satisfied: PyYAML>=5.4 in /usr/local/lib/python3.10/dist-packages (from pytorch-lightning) (6.0.1)\n",
            "Requirement already satisfied: fsspec[http]>=2022.5.0 in /usr/local/lib/python3.10/dist-packages (from pytorch-lightning) (2023.6.0)\n",
            "Requirement already satisfied: torchmetrics>=0.7.0 in /usr/local/lib/python3.10/dist-packages (from pytorch-lightning) (1.3.2)\n",
            "Requirement already satisfied: packaging>=20.0 in /usr/local/lib/python3.10/dist-packages (from pytorch-lightning) (24.0)\n",
            "Requirement already satisfied: typing-extensions>=4.4.0 in /usr/local/lib/python3.10/dist-packages (from pytorch-lightning) (4.10.0)\n",
            "Requirement already satisfied: lightning-utilities>=0.8.0 in /usr/local/lib/python3.10/dist-packages (from pytorch-lightning) (0.11.2)\n",
            "Requirement already satisfied: requests in /usr/local/lib/python3.10/dist-packages (from fsspec[http]>=2022.5.0->pytorch-lightning) (2.31.0)\n",
            "Requirement already satisfied: aiohttp!=4.0.0a0,!=4.0.0a1 in /usr/local/lib/python3.10/dist-packages (from fsspec[http]>=2022.5.0->pytorch-lightning) (3.9.3)\n",
            "Requirement already satisfied: setuptools in /usr/local/lib/python3.10/dist-packages (from lightning-utilities>=0.8.0->pytorch-lightning) (67.7.2)\n",
            "Requirement already satisfied: filelock in /usr/local/lib/python3.10/dist-packages (from torch>=1.13.0->pytorch-lightning) (3.13.3)\n",
            "Requirement already satisfied: sympy in /usr/local/lib/python3.10/dist-packages (from torch>=1.13.0->pytorch-lightning) (1.12)\n",
            "Requirement already satisfied: networkx in /usr/local/lib/python3.10/dist-packages (from torch>=1.13.0->pytorch-lightning) (3.2.1)\n",
            "Requirement already satisfied: jinja2 in /usr/local/lib/python3.10/dist-packages (from torch>=1.13.0->pytorch-lightning) (3.1.3)\n",
            "Requirement already satisfied: nvidia-cuda-nvrtc-cu12==12.1.105 in /usr/local/lib/python3.10/dist-packages (from torch>=1.13.0->pytorch-lightning) (12.1.105)\n",
            "Requirement already satisfied: nvidia-cuda-runtime-cu12==12.1.105 in /usr/local/lib/python3.10/dist-packages (from torch>=1.13.0->pytorch-lightning) (12.1.105)\n",
            "Requirement already satisfied: nvidia-cuda-cupti-cu12==12.1.105 in /usr/local/lib/python3.10/dist-packages (from torch>=1.13.0->pytorch-lightning) (12.1.105)\n",
            "Requirement already satisfied: nvidia-cudnn-cu12==8.9.2.26 in /usr/local/lib/python3.10/dist-packages (from torch>=1.13.0->pytorch-lightning) (8.9.2.26)\n",
            "Requirement already satisfied: nvidia-cublas-cu12==12.1.3.1 in /usr/local/lib/python3.10/dist-packages (from torch>=1.13.0->pytorch-lightning) (12.1.3.1)\n",
            "Requirement already satisfied: nvidia-cufft-cu12==11.0.2.54 in /usr/local/lib/python3.10/dist-packages (from torch>=1.13.0->pytorch-lightning) (11.0.2.54)\n",
            "Requirement already satisfied: nvidia-curand-cu12==10.3.2.106 in /usr/local/lib/python3.10/dist-packages (from torch>=1.13.0->pytorch-lightning) (10.3.2.106)\n",
            "Requirement already satisfied: nvidia-cusolver-cu12==11.4.5.107 in /usr/local/lib/python3.10/dist-packages (from torch>=1.13.0->pytorch-lightning) (11.4.5.107)\n",
            "Requirement already satisfied: nvidia-cusparse-cu12==12.1.0.106 in /usr/local/lib/python3.10/dist-packages (from torch>=1.13.0->pytorch-lightning) (12.1.0.106)\n",
            "Requirement already satisfied: nvidia-nccl-cu12==2.19.3 in /usr/local/lib/python3.10/dist-packages (from torch>=1.13.0->pytorch-lightning) (2.19.3)\n",
            "Requirement already satisfied: nvidia-nvtx-cu12==12.1.105 in /usr/local/lib/python3.10/dist-packages (from torch>=1.13.0->pytorch-lightning) (12.1.105)\n",
            "Requirement already satisfied: triton==2.2.0 in /usr/local/lib/python3.10/dist-packages (from torch>=1.13.0->pytorch-lightning) (2.2.0)\n",
            "Requirement already satisfied: nvidia-nvjitlink-cu12 in /usr/local/lib/python3.10/dist-packages (from nvidia-cusolver-cu12==11.4.5.107->torch>=1.13.0->pytorch-lightning) (12.4.127)\n",
            "Requirement already satisfied: aiosignal>=1.1.2 in /usr/local/lib/python3.10/dist-packages (from aiohttp!=4.0.0a0,!=4.0.0a1->fsspec[http]>=2022.5.0->pytorch-lightning) (1.3.1)\n",
            "Requirement already satisfied: attrs>=17.3.0 in /usr/local/lib/python3.10/dist-packages (from aiohttp!=4.0.0a0,!=4.0.0a1->fsspec[http]>=2022.5.0->pytorch-lightning) (23.2.0)\n",
            "Requirement already satisfied: frozenlist>=1.1.1 in /usr/local/lib/python3.10/dist-packages (from aiohttp!=4.0.0a0,!=4.0.0a1->fsspec[http]>=2022.5.0->pytorch-lightning) (1.4.1)\n",
            "Requirement already satisfied: multidict<7.0,>=4.5 in /usr/local/lib/python3.10/dist-packages (from aiohttp!=4.0.0a0,!=4.0.0a1->fsspec[http]>=2022.5.0->pytorch-lightning) (6.0.5)\n",
            "Requirement already satisfied: yarl<2.0,>=1.0 in /usr/local/lib/python3.10/dist-packages (from aiohttp!=4.0.0a0,!=4.0.0a1->fsspec[http]>=2022.5.0->pytorch-lightning) (1.9.4)\n",
            "Requirement already satisfied: async-timeout<5.0,>=4.0 in /usr/local/lib/python3.10/dist-packages (from aiohttp!=4.0.0a0,!=4.0.0a1->fsspec[http]>=2022.5.0->pytorch-lightning) (4.0.3)\n",
            "Requirement already satisfied: MarkupSafe>=2.0 in /usr/local/lib/python3.10/dist-packages (from jinja2->torch>=1.13.0->pytorch-lightning) (2.1.5)\n",
            "Requirement already satisfied: charset-normalizer<4,>=2 in /usr/local/lib/python3.10/dist-packages (from requests->fsspec[http]>=2022.5.0->pytorch-lightning) (3.3.2)\n",
            "Requirement already satisfied: idna<4,>=2.5 in /usr/local/lib/python3.10/dist-packages (from requests->fsspec[http]>=2022.5.0->pytorch-lightning) (3.6)\n",
            "Requirement already satisfied: urllib3<3,>=1.21.1 in /usr/local/lib/python3.10/dist-packages (from requests->fsspec[http]>=2022.5.0->pytorch-lightning) (2.0.7)\n",
            "Requirement already satisfied: certifi>=2017.4.17 in /usr/local/lib/python3.10/dist-packages (from requests->fsspec[http]>=2022.5.0->pytorch-lightning) (2024.2.2)\n",
            "Requirement already satisfied: mpmath>=0.19 in /usr/local/lib/python3.10/dist-packages (from sympy->torch>=1.13.0->pytorch-lightning) (1.3.0)\n"
          ]
        }
      ]
    },
    {
      "cell_type": "code",
      "execution_count": 2,
      "metadata": {
        "id": "dn4LSil7nJ3w"
      },
      "outputs": [],
      "source": [
        "import torch\n",
        "import torch.nn as nn\n",
        "import torch.nn.functional as functionals\n",
        "from torch.utils.data import DataLoader, random_split\n",
        "from torchvision import datasets, transforms\n",
        "import pytorch_lightning as pyligtining"
      ]
    },
    {
      "cell_type": "code",
      "source": [
        "print(pyligtining.__version__)"
      ],
      "metadata": {
        "colab": {
          "base_uri": "https://localhost:8080/"
        },
        "id": "v3QNXfDY9aeQ",
        "outputId": "69c20eff-0b54-4e0c-9fc6-50a4ce34039a"
      },
      "execution_count": 3,
      "outputs": [
        {
          "output_type": "stream",
          "name": "stdout",
          "text": [
            "2.2.1\n"
          ]
        }
      ]
    },
    {
      "cell_type": "markdown",
      "source": [
        "#Question 1 (5 Marks)\n",
        "Build a small CNN model consisting of 5 convolution layers. Each convolution layer would be followed by a ReLU activation and a max pooling layer. Here is sample code for building one such conv-relu-maxpool block in keras.\n",
        "\n",
        "model = Sequential()\n",
        "model.add(Conv2D(16, (3, 3), input_shape=input_shape))\n",
        "model.add(Activation('relu'))\n",
        "model.add(MaxPooling2D(pool_size=(2, 2)))\n",
        "After 5 such conv-relu-maxpool blocks of layers you should have one dense layer followed by the output layer containing 10 neurons (1 for each of the 10 classes). The input layer should be compatible with the images in the iNaturalist dataset.\n",
        "\n",
        "**The code should be flexible such that the number of filters, size of filters and activation function in each layer can be changed. You should also be able to change the number of neurons in the dense layer.**\n",
        "\n",
        "(a) What is the total number of computations done by your network? (assume mmm filters in each layer of size k×kk\\times kk×k and nnn neurons in the dense layer)\n",
        "\n",
        "(b) What is the total number of parameters in your network? (assume mmm filters in each layer of size k×kk\\times kk×k and nnn neurons in the dense layer)\n"
      ],
      "metadata": {
        "id": "0HWpx8UNpW8G"
      }
    },
    {
      "cell_type": "code",
      "source": [
        "import torch\n",
        "import torch.nn as nn\n",
        "import torch.nn.functional as F\n",
        "from torch.utils.data import DataLoader, random_split\n",
        "from torchvision import datasets, transforms\n",
        "import pytorch_lightning as pl\n",
        "\n",
        "class ECNN(pl.LightningModule):\n",
        "    def __init__(self, input_shape, num_classes, num_filters, filter_size, dense_neurons, batch_normalization='True',dropout=0.2, activation='relu'):\n",
        "        super().__init__()\n",
        "        self.input_shape = input_shape\n",
        "        self.num_classes = num_classes\n",
        "        self.num_filters = num_filters\n",
        "        self.filter_size = filter_size\n",
        "        self.dense_neurons = dense_neurons\n",
        "        self.activation = activation\n",
        "        self.batch_normalization=batch_normalization\n",
        "\n",
        "        # Define convolutional layers\n",
        "        self.conv1 = nn.Conv2d(3, num_filters, filter_size)\n",
        "        self.conv2 = nn.Conv2d(num_filters, num_filters, filter_size)\n",
        "        self.conv3 = nn.Conv2d(num_filters, num_filters, filter_size)\n",
        "        self.conv4 = nn.Conv2d(num_filters, num_filters, filter_size)\n",
        "        self.conv5 = nn.Conv2d(num_filters, num_filters, filter_size)\n",
        "\n",
        "        # Define batch normalization layers\n",
        "        self.bn1 = nn.BatchNorm2d(num_filters)\n",
        "        self.bn2 = nn.BatchNorm2d(num_filters)\n",
        "        self.bn3 = nn.BatchNorm2d(num_filters)\n",
        "        self.bn4 = nn.BatchNorm2d(num_filters)\n",
        "        self.bn5 = nn.BatchNorm2d(num_filters)\n",
        "        '''\n",
        "\n",
        "        #########################\n",
        "        self.conv_layers = nn.ModuleList([\n",
        "            nn.Conv2d(input_shape[0] if i == 0 else num_filters, num_filters, filter_size)\n",
        "            for i in range(5)\n",
        "        ])\n",
        "\n",
        "        # Define batch normalization layers\n",
        "        self.bn_layers = nn.ModuleList([\n",
        "            nn.BatchNorm2d(num_filters)\n",
        "            for _ in range(5)\n",
        "        ])\n",
        "        ###########################\n",
        "        '''\n",
        "\n",
        "        # Define pooling layer\n",
        "        self.pool = nn.MaxPool2d(2, 2)\n",
        "\n",
        "        # Define dropout\n",
        "        self.dropout1 = nn.Dropout(dropout)\n",
        "        self.dropout2 = nn.Dropout(dropout)\n",
        "        self.dropout3 = nn.Dropout(dropout)\n",
        "        self.dropout4 = nn.Dropout(dropout)\n",
        "        self.dropout5 = nn.Dropout(dropout)\n",
        "\n",
        "        # Calculate the size of the feature maps after max pooling\n",
        "        self.flatten_size = self.calculate_flatten_size()\n",
        "\n",
        "        # Define dense layers\n",
        "        self.fc1 = nn.Linear(self.flatten_size, dense_neurons)\n",
        "        self.fc2 = nn.Linear(dense_neurons, num_classes)\n",
        "\n",
        "    '''\n",
        "    ########################################\n",
        "    def forward(self, x):\n",
        "        for conv, bn in zip(self.conv_layers, self.bn_layers):\n",
        "            x = F.relu(bn(conv(x)))\n",
        "            x = self.pool(x)\n",
        "        x = x.view(-1, self.flatten_size)\n",
        "        x = F.relu(self.fc1(x))\n",
        "        x = self.fc2(x)\n",
        "        return F.log_softmax(x, dim=1)\n",
        "\n",
        "    def calculate_flatten_size(self):\n",
        "        # Dummy input to calculate the size of the feature maps after max pooling\n",
        "        x = torch.randn(1, *self.input_shape)\n",
        "        for conv, bn in zip(self.conv_layers, self.bn_layers):\n",
        "            x = F.relu(bn(conv(x)))\n",
        "            x = self.pool(x)\n",
        "        return x.view(x.size(0), -1).size(1)\n",
        "\n",
        "    #####################################\n",
        "    '''\n",
        "\n",
        "    def forward(self, x):\n",
        "        if self.batch_normalization:\n",
        "          x = F.relu(self.bn1(self.conv1(x)))\n",
        "        else:\n",
        "          x = F.relu(self.conv1(x))\n",
        "        x=self.dropout1(x)\n",
        "        x = self.pool(x)\n",
        "\n",
        "        if self.batch_normalization:\n",
        "          x = F.relu(self.bn2(self.conv2(x)))\n",
        "        else:\n",
        "          x = F.relu(self.conv2(x))\n",
        "        x=self.dropout2(x)\n",
        "        x = self.pool(x)\n",
        "\n",
        "        if self.batch_normalization:\n",
        "          x = F.relu(self.bn3(self.conv3(x)))\n",
        "        else:\n",
        "          x = F.relu(self.conv3(x))\n",
        "        x=self.dropout3(x)\n",
        "        x = self.pool(x)\n",
        "\n",
        "        if self.batch_normalization:\n",
        "          x = F.relu(self.bn4(self.conv4(x)))\n",
        "        else:\n",
        "          x = F.relu(self.conv4(x))\n",
        "        x=self.dropout4(x)\n",
        "        x = self.pool(x)\n",
        "\n",
        "        if self.batch_normalization:\n",
        "          x = F.relu(self.bn5(self.conv5(x)))\n",
        "        else:\n",
        "          x = F.relu(self.conv5(x))\n",
        "        x=self.dropout5(x)\n",
        "\n",
        "        x = self.pool(x)\n",
        "        x = x.view(-1, self.flatten_size)\n",
        "        x = F.relu(self.fc1(x))\n",
        "        x = self.fc2(x)\n",
        "        return F.log_softmax(x, dim=1)\n",
        "\n",
        "    def calculate_flatten_size(self):\n",
        "        # Dummy input to calculate the size of the feature maps after max pooling\n",
        "        x = torch.randn(1, *self.input_shape)\n",
        "        x = self.pool(self.conv1(x))\n",
        "        x = self.pool(self.conv2(x))\n",
        "        x = self.pool(self.conv3(x))\n",
        "        x = self.pool(self.conv4(x))\n",
        "        x = self.pool(self.conv5(x))\n",
        "        return x.view(x.size(0), -1).size(1)\n",
        "\n",
        "    def configure_optimizers(self):\n",
        "        return torch.optim.Adam(self.parameters(), lr=0.001)\n",
        "\n",
        "    def training_step(self, batch, batch_idx):\n",
        "        x, y = batch\n",
        "        y_hat = self(x)\n",
        "        loss = F.nll_loss(y_hat, y)\n",
        "        self.log('train_loss', loss)\n",
        "        return loss\n",
        "\n",
        "    def validation_step(self, batch, batch_idx):\n",
        "        x, y = batch\n",
        "        y_hat = self(x)\n",
        "        loss = F.nll_loss(y_hat, y)\n",
        "        self.log('val_loss', loss)\n",
        "\n",
        "    def test_step(self, batch, batch_idx):\n",
        "        x, y = batch\n",
        "        y_hat = self(x)\n",
        "        loss = F.nll_loss(y_hat, y)\n",
        "        self.log('test_loss', loss)\n",
        "\n",
        "# Define transforms\n",
        "transform = transforms.Compose([\n",
        "    transforms.Resize((224, 224)),\n",
        "    transforms.ToTensor()\n",
        "])\n",
        "\n",
        "# Load dataset\n",
        "train_dataset = datasets.ImageFolder(root='/content/drive/MyDrive/Colab Notebooks/nature_12K/inaturalist_12K/train', transform=transform)\n",
        "train_size = int(0.8 * len(train_dataset))\n",
        "val_size = len(train_dataset) - train_size\n",
        "train_data, val_data = random_split(train_dataset, [train_size, val_size])\n",
        "\n",
        "test_data =  datasets.ImageFolder(root='/content/drive/MyDrive/Colab Notebooks/nature_12K/inaturalist_12K/val', transform=transform)\n",
        "# Create data loaders\n",
        "train_loader = DataLoader(train_data, batch_size=32, shuffle=True)\n",
        "val_loader = DataLoader(val_data, batch_size=32)\n",
        "'''\n",
        "\n",
        "# Initialize model\n",
        "model = ECNN(input_shape=(3, 224, 224), num_classes=10, num_filters=32, filter_size=3, dense_neurons=128)\n",
        "\n",
        "# Initialize Lightning trainer with GPU support\n",
        "trainer = pyligtining.Trainer(max_epochs=1, accelerator=\"auto\") # not GPU but accelerator\n",
        "\n",
        "# Train the model\n",
        "trainer.fit(model, train_loader, val_loader)\n",
        "\n",
        "# Test the model\n",
        "trainer.test()\n",
        "'''\n"
      ],
      "metadata": {
        "colab": {
          "base_uri": "https://localhost:8080/",
          "height": 53
        },
        "id": "DQdLpMsgbZfS",
        "outputId": "d0bff9d1-cffd-4825-8b0d-eea60dd5b15a"
      },
      "execution_count": 46,
      "outputs": [
        {
          "output_type": "execute_result",
          "data": {
            "text/plain": [
              "'\\n\\n# Initialize model\\nmodel = ECNN(input_shape=(3, 224, 224), num_classes=10, num_filters=32, filter_size=3, dense_neurons=128)\\n\\n# Initialize Lightning trainer with GPU support\\ntrainer = pyligtining.Trainer(max_epochs=1, accelerator=\"auto\") # not GPU but accelerator\\n\\n# Train the model\\ntrainer.fit(model, train_loader, val_loader)\\n\\n# Test the model\\ntrainer.test()\\n'"
            ],
            "application/vnd.google.colaboratory.intrinsic+json": {
              "type": "string"
            }
          },
          "metadata": {},
          "execution_count": 46
        }
      ]
    },
    {
      "cell_type": "markdown",
      "source": [
        "# Sweep Iteration 1"
      ],
      "metadata": {
        "id": "E2tkvSX13wuH"
      }
    },
    {
      "cell_type": "code",
      "source": [
        "# wandb sweep\n",
        "!pip install --upgrade wandb\n",
        "!wandb login 3c21150eb43b007ee446a1ff6e87f640ec7528c4 #my API key for wandb login\n",
        "import wandb"
      ],
      "metadata": {
        "colab": {
          "base_uri": "https://localhost:8080/"
        },
        "id": "0I0876QmF9GA",
        "outputId": "ca01fcf3-a677-4a00-fc03-5239792772ba"
      },
      "execution_count": 47,
      "outputs": [
        {
          "output_type": "stream",
          "name": "stdout",
          "text": [
            "Requirement already satisfied: wandb in /usr/local/lib/python3.10/dist-packages (0.16.6)\n",
            "Requirement already satisfied: Click!=8.0.0,>=7.1 in /usr/local/lib/python3.10/dist-packages (from wandb) (8.1.7)\n",
            "Requirement already satisfied: GitPython!=3.1.29,>=1.0.0 in /usr/local/lib/python3.10/dist-packages (from wandb) (3.1.43)\n",
            "Requirement already satisfied: requests<3,>=2.0.0 in /usr/local/lib/python3.10/dist-packages (from wandb) (2.31.0)\n",
            "Requirement already satisfied: psutil>=5.0.0 in /usr/local/lib/python3.10/dist-packages (from wandb) (5.9.5)\n",
            "Requirement already satisfied: sentry-sdk>=1.0.0 in /usr/local/lib/python3.10/dist-packages (from wandb) (1.44.1)\n",
            "Requirement already satisfied: docker-pycreds>=0.4.0 in /usr/local/lib/python3.10/dist-packages (from wandb) (0.4.0)\n",
            "Requirement already satisfied: PyYAML in /usr/local/lib/python3.10/dist-packages (from wandb) (6.0.1)\n",
            "Requirement already satisfied: setproctitle in /usr/local/lib/python3.10/dist-packages (from wandb) (1.3.3)\n",
            "Requirement already satisfied: setuptools in /usr/local/lib/python3.10/dist-packages (from wandb) (67.7.2)\n",
            "Requirement already satisfied: appdirs>=1.4.3 in /usr/local/lib/python3.10/dist-packages (from wandb) (1.4.4)\n",
            "Requirement already satisfied: protobuf!=4.21.0,<5,>=3.19.0 in /usr/local/lib/python3.10/dist-packages (from wandb) (3.20.3)\n",
            "Requirement already satisfied: six>=1.4.0 in /usr/local/lib/python3.10/dist-packages (from docker-pycreds>=0.4.0->wandb) (1.16.0)\n",
            "Requirement already satisfied: gitdb<5,>=4.0.1 in /usr/local/lib/python3.10/dist-packages (from GitPython!=3.1.29,>=1.0.0->wandb) (4.0.11)\n",
            "Requirement already satisfied: charset-normalizer<4,>=2 in /usr/local/lib/python3.10/dist-packages (from requests<3,>=2.0.0->wandb) (3.3.2)\n",
            "Requirement already satisfied: idna<4,>=2.5 in /usr/local/lib/python3.10/dist-packages (from requests<3,>=2.0.0->wandb) (3.6)\n",
            "Requirement already satisfied: urllib3<3,>=1.21.1 in /usr/local/lib/python3.10/dist-packages (from requests<3,>=2.0.0->wandb) (2.0.7)\n",
            "Requirement already satisfied: certifi>=2017.4.17 in /usr/local/lib/python3.10/dist-packages (from requests<3,>=2.0.0->wandb) (2024.2.2)\n",
            "Requirement already satisfied: smmap<6,>=3.0.1 in /usr/local/lib/python3.10/dist-packages (from gitdb<5,>=4.0.1->GitPython!=3.1.29,>=1.0.0->wandb) (5.0.1)\n",
            "\u001b[34m\u001b[1mwandb\u001b[0m: Appending key for api.wandb.ai to your netrc file: /root/.netrc\n"
          ]
        }
      ]
    },
    {
      "cell_type": "code",
      "source": [
        "from torchsummary import summary\n",
        "from pytorch_lightning.callbacks import EarlyStopping\n",
        "sweep_config = {\n",
        "    'method': 'bayes', #grid, random,bayes\n",
        "    'metric': {\n",
        "      'name': 'val_accuracy',\n",
        "      'goal': 'maximize'\n",
        "    },\n",
        "    'parameters': {\n",
        "        'activation': {\n",
        "            'values': ['relu','gelu','elu','silu']\n",
        "        },\n",
        "        'num_filter': {\n",
        "            'values': [[32,32,32,32,32] ,[64,64,64,64,64] ,[128,128,128,128,128],\n",
        "                       [64,128,256,512,1024]]\n",
        "        },\n",
        "        'filter_size':{\n",
        "            'values':[[3,3,3,5,5],[5,5,5,5,5],[3,3,3,3,3]]\n",
        "        },\n",
        "        'dropout':{\n",
        "            'values':[0.2,0.3]\n",
        "        },\n",
        "        'batch_normal':{\n",
        "            'values':[True,False]\n",
        "        },\n",
        "        'data_augmentation':{\n",
        "            'values':[True,False]\n",
        "        },\n",
        "\n",
        "    }\n",
        "}\n",
        "\n",
        "sweep_id = wandb.sweep(sweep_config, entity='ed23d015', project=\"DL_Assignment_2\")\n",
        "\n",
        "def sweep_train():\n",
        "  # Default hyper-parameters\n",
        "  config_defaults = {\n",
        "      'activation':'relu',\n",
        "      'num_filter':[32,32,32,32,32],\n",
        "      'filter_size':[3,3,3,3,3],\n",
        "      'dropout':0.3,\n",
        "      'batch_normal':True,\n",
        "      'data_augmentation':True,\n",
        "  }\n",
        "\n",
        "  # Initialize wandb run\n",
        "  wandb.init(project='DL_Assignment_2', entity='ed23d015',config=config_defaults)\n",
        "  wandb.run.name = 'act:'+ str(wandb.config.activation)+' ;filter:'+str(wandb.config.num_filter)+ ' ;ker:'+str(wandb.config.filter_size)+ ' ;drop:'+str(wandb.config.dropout)+' ;b_n:'+str(wandb.config.batch_normal)+' ;d_a:'+str(wandb.config.data_augmentation)\n",
        "\n",
        "  config = wandb.config\n",
        "  activation = config.activation\n",
        "  num_filter = config.num_filter\n",
        "  filter_size = config.filter_size\n",
        "  dropout = config.dropout\n",
        "  batch_normal = config.batch_normal\n",
        "  data_augmentation = config.data_augmentation\n",
        "  '''\n",
        "  # It's training time\n",
        "\n",
        "  model = ECNN(input_shape=(3, 224, 224), num_classes=10, num_filters=num_filter, filter_size=filter_size, dense_neurons=128, batch_normalization=batch_normal, dropout=dropout, activation=activation)\n",
        "\n",
        "  # Initialize Lightning trainer with GPU support\n",
        "  #trainer = pyligtining.Trainer(max_epochs=10, accelerator=\"auto\") # not GPU but accelerator\n",
        "  trainer = pl.Trainer(max_epochs=10, gpus=1 if torch.cuda.is_available() else None, progress_bar_refresh_rate=30, callbacks=[EarlyStopping(monitor='val_loss')])\n",
        "\n",
        "\n",
        "  # Train the model\n",
        "  trainer.fit(model, train_loader, val_loader)\n",
        "\n",
        "  # Test the model\n",
        "  #trainer.test()\n",
        "\n",
        "  # Test the model\n",
        "  trainer.test(test_dataloaders=val_loader)\n",
        "  '''\n",
        "  # It's training time\n",
        "  model = ECNN(input_shape=(3, 224, 224), num_classes=10, num_filters=num_filter, filter_size=filter_size, dense_neurons=128, batch_normalization=batch_normal, dropout=dropout, activation=activation)\n",
        "\n",
        "  # Define loss function and optimizer\n",
        "  criterion = nn.CrossEntropyLoss()\n",
        "  optimizer = optim.Adam(model.parameters(), lr=0.001)\n",
        "\n",
        "  # Initialize Lightning trainer with GPU support\n",
        "  trainer = pl.Trainer(max_epochs=10, gpus=1 if torch.cuda.is_available() else None, progress_bar_refresh_rate=30, callbacks=[EarlyStopping(monitor='val_loss')])\n",
        "\n",
        "  # Training loop\n",
        "  for epoch in range(trainer.max_epochs):\n",
        "      # Train the model\n",
        "      model.train()\n",
        "      train_loss = 0.0\n",
        "      correct_train = 0\n",
        "      total_train = 0\n",
        "\n",
        "      for images, labels in train_loader:\n",
        "          optimizer.zero_grad()\n",
        "          outputs = model(images)\n",
        "          loss = criterion(outputs, labels)\n",
        "          loss.backward()\n",
        "          optimizer.step()\n",
        "\n",
        "          train_loss += loss.item()\n",
        "          _, predicted = torch.max(outputs, 1)\n",
        "          total_train += labels.size(0)\n",
        "          correct_train += (predicted == labels).sum().item()\n",
        "\n",
        "      train_accuracy = 100 * correct_train / total_train\n",
        "      train_loss /= len(train_loader)\n",
        "\n",
        "      # Validate the model\n",
        "      model.eval()\n",
        "      val_loss = 0.0\n",
        "      correct_val = 0\n",
        "      total_val = 0\n",
        "\n",
        "      with torch.no_grad():\n",
        "          for images, labels in val_loader:\n",
        "              outputs = model(images)\n",
        "              loss = criterion(outputs, labels)\n",
        "              val_loss += loss.item()\n",
        "              _, predicted = torch.max(outputs, 1)\n",
        "              total_val += labels.size(0)\n",
        "              correct_val += (predicted == labels).sum().item()\n",
        "\n",
        "      val_accuracy = 100 * correct_val / total_val\n",
        "      val_loss /= len(val_loader)\n",
        "\n",
        "      # Log metrics to wandb\n",
        "      wandb.log({\"epoch\": epoch + 1, \"train_loss\": train_loss, \"train_accuracy\": train_accuracy, \"val_loss\": val_loss, \"val_accuracy\": val_accuracy})\n",
        "\n",
        "      # Print training progress\n",
        "      print(f\"Epoch {epoch + 1}/{trainer.max_epochs}, Train Loss: {train_loss:.4f}, Train Acc: {train_accuracy:.2f}%, Val Loss: {val_loss:.4f}, Val Acc: {val_accuracy:.2f}%\")\n",
        "\n",
        "  # Test the model\n",
        "  trainer.test(test_dataloaders=val_loader)\n",
        "\n",
        "#RUNNING THE SWEEP\n",
        "wandb.agent(sweep_id, function=sweep_train, count=120)"
      ],
      "metadata": {
        "colab": {
          "base_uri": "https://localhost:8080/",
          "height": 1000,
          "referenced_widgets": [
            "cb51a6360d524291aa2b49b8bc77f74d",
            "c5ae38d594a740b39d5281ceb828dd8d",
            "f25080b7b2ce4d979ff0a4ae93b3612a",
            "4cbdc85fdd0c4922a1944b81efbbd461",
            "32a1dde66b5b4af994d379c30edea625",
            "9ecdbf5ef7ce493998ca535271ccbf36",
            "4a3510d85c754b56b52ed1cc2d38552d",
            "f0de4235ba6b4795af51d7c8a9d0306e",
            "9f2687ca2c0b4e4da7faf127e44bd9c2",
            "cd03c4f6ba23494cb56d712531e2c765",
            "6f9a914a619948b5a43bd2e5ee437dc2",
            "ed1b24593d4b40169d8dacfd230b584b",
            "f1b09407bd5a4a7988c523c207bab4e6",
            "5075083041e04cb5a20dff5994445ba4",
            "cc897c81bdea41c9a7ff9c5f26a9f0c9",
            "3953e2db518b41c5838dfae8a0bc1199"
          ]
        },
        "id": "jTh3obDC3uye",
        "outputId": "f73b5555-2025-45b0-f40e-218c5afc2257"
      },
      "execution_count": 48,
      "outputs": [
        {
          "output_type": "stream",
          "name": "stdout",
          "text": [
            "Create sweep with ID: 3iatfv08\n",
            "Sweep URL: https://wandb.ai/ed23d015/DL_Assignment_2/sweeps/3iatfv08\n"
          ]
        },
        {
          "output_type": "stream",
          "name": "stderr",
          "text": [
            "\u001b[34m\u001b[1mwandb\u001b[0m: Agent Starting Run: e25r36fz with config:\n",
            "\u001b[34m\u001b[1mwandb\u001b[0m: \tactivation: silu\n",
            "\u001b[34m\u001b[1mwandb\u001b[0m: \tbatch_normal: False\n",
            "\u001b[34m\u001b[1mwandb\u001b[0m: \tdata_augmentation: False\n",
            "\u001b[34m\u001b[1mwandb\u001b[0m: \tdropout: 0.3\n",
            "\u001b[34m\u001b[1mwandb\u001b[0m: \tfilter_size: [3, 3, 3, 5, 5]\n",
            "\u001b[34m\u001b[1mwandb\u001b[0m: \tnum_filter: [64, 128, 256, 512, 1024]\n",
            "\u001b[34m\u001b[1mwandb\u001b[0m: \u001b[33mWARNING\u001b[0m Ignored wandb.init() arg project when running a sweep.\n",
            "\u001b[34m\u001b[1mwandb\u001b[0m: \u001b[33mWARNING\u001b[0m Ignored wandb.init() arg entity when running a sweep.\n"
          ]
        },
        {
          "output_type": "display_data",
          "data": {
            "text/plain": [
              "<IPython.core.display.HTML object>"
            ],
            "text/html": [
              "Tracking run with wandb version 0.16.6"
            ]
          },
          "metadata": {}
        },
        {
          "output_type": "display_data",
          "data": {
            "text/plain": [
              "<IPython.core.display.HTML object>"
            ],
            "text/html": [
              "Run data is saved locally in <code>/content/wandb/run-20240406_172235-e25r36fz</code>"
            ]
          },
          "metadata": {}
        },
        {
          "output_type": "display_data",
          "data": {
            "text/plain": [
              "<IPython.core.display.HTML object>"
            ],
            "text/html": [
              "Syncing run <strong><a href='https://wandb.ai/ed23d015/DL_Assignment_2/runs/e25r36fz' target=\"_blank\">glowing-sweep-1</a></strong> to <a href='https://wandb.ai/ed23d015/DL_Assignment_2' target=\"_blank\">Weights & Biases</a> (<a href='https://wandb.me/run' target=\"_blank\">docs</a>)<br/>Sweep page: <a href='https://wandb.ai/ed23d015/DL_Assignment_2/sweeps/3iatfv08' target=\"_blank\">https://wandb.ai/ed23d015/DL_Assignment_2/sweeps/3iatfv08</a>"
            ]
          },
          "metadata": {}
        },
        {
          "output_type": "display_data",
          "data": {
            "text/plain": [
              "<IPython.core.display.HTML object>"
            ],
            "text/html": [
              " View project at <a href='https://wandb.ai/ed23d015/DL_Assignment_2' target=\"_blank\">https://wandb.ai/ed23d015/DL_Assignment_2</a>"
            ]
          },
          "metadata": {}
        },
        {
          "output_type": "display_data",
          "data": {
            "text/plain": [
              "<IPython.core.display.HTML object>"
            ],
            "text/html": [
              " View sweep at <a href='https://wandb.ai/ed23d015/DL_Assignment_2/sweeps/3iatfv08' target=\"_blank\">https://wandb.ai/ed23d015/DL_Assignment_2/sweeps/3iatfv08</a>"
            ]
          },
          "metadata": {}
        },
        {
          "output_type": "display_data",
          "data": {
            "text/plain": [
              "<IPython.core.display.HTML object>"
            ],
            "text/html": [
              " View run at <a href='https://wandb.ai/ed23d015/DL_Assignment_2/runs/e25r36fz' target=\"_blank\">https://wandb.ai/ed23d015/DL_Assignment_2/runs/e25r36fz</a>"
            ]
          },
          "metadata": {}
        },
        {
          "output_type": "display_data",
          "data": {
            "text/plain": [
              "VBox(children=(Label(value='0.001 MB of 0.011 MB uploaded\\r'), FloatProgress(value=0.09366846408070968, max=1.…"
            ],
            "application/vnd.jupyter.widget-view+json": {
              "version_major": 2,
              "version_minor": 0,
              "model_id": "cb51a6360d524291aa2b49b8bc77f74d"
            }
          },
          "metadata": {}
        },
        {
          "output_type": "display_data",
          "data": {
            "text/plain": [
              "<IPython.core.display.HTML object>"
            ],
            "text/html": [
              " View run <strong style=\"color:#cdcd00\">glowing-sweep-1</strong> at: <a href='https://wandb.ai/ed23d015/DL_Assignment_2/runs/e25r36fz' target=\"_blank\">https://wandb.ai/ed23d015/DL_Assignment_2/runs/e25r36fz</a><br/> View project at: <a href='https://wandb.ai/ed23d015/DL_Assignment_2' target=\"_blank\">https://wandb.ai/ed23d015/DL_Assignment_2</a><br/>Synced 4 W&B file(s), 0 media file(s), 0 artifact file(s) and 0 other file(s)"
            ]
          },
          "metadata": {}
        },
        {
          "output_type": "display_data",
          "data": {
            "text/plain": [
              "<IPython.core.display.HTML object>"
            ],
            "text/html": [
              "Find logs at: <code>./wandb/run-20240406_172235-e25r36fz/logs</code>"
            ]
          },
          "metadata": {}
        },
        {
          "output_type": "stream",
          "name": "stderr",
          "text": [
            "Run e25r36fz errored:\n",
            "Traceback (most recent call last):\n",
            "  File \"/usr/local/lib/python3.10/dist-packages/wandb/agents/pyagent.py\", line 308, in _run_job\n",
            "    self._function()\n",
            "  File \"<ipython-input-48-0d0d6c1b55d6>\", line 77, in sweep_train\n",
            "    model = ECNN(input_shape=(3, 224, 224), num_classes=10, num_filters=num_filter, filter_size=filter_size, dense_neurons=128, batch_normalization=batch_normal, dropout=dropout, activation=activation)\n",
            "  File \"<ipython-input-46-cd8f3cde1627>\", line 22, in __init__\n",
            "    self.conv1 = nn.Conv2d(3, num_filters, filter_size)\n",
            "  File \"/usr/local/lib/python3.10/dist-packages/torch/nn/modules/conv.py\", line 447, in __init__\n",
            "    super().__init__(\n",
            "  File \"/usr/local/lib/python3.10/dist-packages/torch/nn/modules/conv.py\", line 90, in __init__\n",
            "    if out_channels % groups != 0:\n",
            "TypeError: unsupported operand type(s) for %: 'list' and 'int'\n",
            "\n",
            "\u001b[34m\u001b[1mwandb\u001b[0m: \u001b[32m\u001b[41mERROR\u001b[0m Run e25r36fz errored:\n",
            "\u001b[34m\u001b[1mwandb\u001b[0m: \u001b[32m\u001b[41mERROR\u001b[0m Traceback (most recent call last):\n",
            "\u001b[34m\u001b[1mwandb\u001b[0m: \u001b[32m\u001b[41mERROR\u001b[0m   File \"/usr/local/lib/python3.10/dist-packages/wandb/agents/pyagent.py\", line 308, in _run_job\n",
            "\u001b[34m\u001b[1mwandb\u001b[0m: \u001b[32m\u001b[41mERROR\u001b[0m     self._function()\n",
            "\u001b[34m\u001b[1mwandb\u001b[0m: \u001b[32m\u001b[41mERROR\u001b[0m   File \"<ipython-input-48-0d0d6c1b55d6>\", line 77, in sweep_train\n",
            "\u001b[34m\u001b[1mwandb\u001b[0m: \u001b[32m\u001b[41mERROR\u001b[0m     model = ECNN(input_shape=(3, 224, 224), num_classes=10, num_filters=num_filter, filter_size=filter_size, dense_neurons=128, batch_normalization=batch_normal, dropout=dropout, activation=activation)\n",
            "\u001b[34m\u001b[1mwandb\u001b[0m: \u001b[32m\u001b[41mERROR\u001b[0m   File \"<ipython-input-46-cd8f3cde1627>\", line 22, in __init__\n",
            "\u001b[34m\u001b[1mwandb\u001b[0m: \u001b[32m\u001b[41mERROR\u001b[0m     self.conv1 = nn.Conv2d(3, num_filters, filter_size)\n",
            "\u001b[34m\u001b[1mwandb\u001b[0m: \u001b[32m\u001b[41mERROR\u001b[0m   File \"/usr/local/lib/python3.10/dist-packages/torch/nn/modules/conv.py\", line 447, in __init__\n",
            "\u001b[34m\u001b[1mwandb\u001b[0m: \u001b[32m\u001b[41mERROR\u001b[0m     super().__init__(\n",
            "\u001b[34m\u001b[1mwandb\u001b[0m: \u001b[32m\u001b[41mERROR\u001b[0m   File \"/usr/local/lib/python3.10/dist-packages/torch/nn/modules/conv.py\", line 90, in __init__\n",
            "\u001b[34m\u001b[1mwandb\u001b[0m: \u001b[32m\u001b[41mERROR\u001b[0m     if out_channels % groups != 0:\n",
            "\u001b[34m\u001b[1mwandb\u001b[0m: \u001b[32m\u001b[41mERROR\u001b[0m TypeError: unsupported operand type(s) for %: 'list' and 'int'\n",
            "\u001b[34m\u001b[1mwandb\u001b[0m: \u001b[32m\u001b[41mERROR\u001b[0m \n",
            "\u001b[34m\u001b[1mwandb\u001b[0m: Agent Starting Run: yjqf5rgm with config:\n",
            "\u001b[34m\u001b[1mwandb\u001b[0m: \tactivation: elu\n",
            "\u001b[34m\u001b[1mwandb\u001b[0m: \tbatch_normal: True\n",
            "\u001b[34m\u001b[1mwandb\u001b[0m: \tdata_augmentation: False\n",
            "\u001b[34m\u001b[1mwandb\u001b[0m: \tdropout: 0.2\n",
            "\u001b[34m\u001b[1mwandb\u001b[0m: \tfilter_size: [3, 3, 3, 5, 5]\n",
            "\u001b[34m\u001b[1mwandb\u001b[0m: \tnum_filter: [64, 128, 256, 512, 1024]\n",
            "\u001b[34m\u001b[1mwandb\u001b[0m: \u001b[33mWARNING\u001b[0m Ignored wandb.init() arg project when running a sweep.\n",
            "\u001b[34m\u001b[1mwandb\u001b[0m: \u001b[33mWARNING\u001b[0m Ignored wandb.init() arg entity when running a sweep.\n"
          ]
        },
        {
          "output_type": "display_data",
          "data": {
            "text/plain": [
              "<IPython.core.display.HTML object>"
            ],
            "text/html": [
              "Tracking run with wandb version 0.16.6"
            ]
          },
          "metadata": {}
        },
        {
          "output_type": "display_data",
          "data": {
            "text/plain": [
              "<IPython.core.display.HTML object>"
            ],
            "text/html": [
              "Run data is saved locally in <code>/content/wandb/run-20240406_172250-yjqf5rgm</code>"
            ]
          },
          "metadata": {}
        },
        {
          "output_type": "display_data",
          "data": {
            "text/plain": [
              "<IPython.core.display.HTML object>"
            ],
            "text/html": [
              "Syncing run <strong><a href='https://wandb.ai/ed23d015/DL_Assignment_2/runs/yjqf5rgm' target=\"_blank\">ethereal-sweep-2</a></strong> to <a href='https://wandb.ai/ed23d015/DL_Assignment_2' target=\"_blank\">Weights & Biases</a> (<a href='https://wandb.me/run' target=\"_blank\">docs</a>)<br/>Sweep page: <a href='https://wandb.ai/ed23d015/DL_Assignment_2/sweeps/3iatfv08' target=\"_blank\">https://wandb.ai/ed23d015/DL_Assignment_2/sweeps/3iatfv08</a>"
            ]
          },
          "metadata": {}
        },
        {
          "output_type": "display_data",
          "data": {
            "text/plain": [
              "<IPython.core.display.HTML object>"
            ],
            "text/html": [
              " View project at <a href='https://wandb.ai/ed23d015/DL_Assignment_2' target=\"_blank\">https://wandb.ai/ed23d015/DL_Assignment_2</a>"
            ]
          },
          "metadata": {}
        },
        {
          "output_type": "display_data",
          "data": {
            "text/plain": [
              "<IPython.core.display.HTML object>"
            ],
            "text/html": [
              " View sweep at <a href='https://wandb.ai/ed23d015/DL_Assignment_2/sweeps/3iatfv08' target=\"_blank\">https://wandb.ai/ed23d015/DL_Assignment_2/sweeps/3iatfv08</a>"
            ]
          },
          "metadata": {}
        },
        {
          "output_type": "display_data",
          "data": {
            "text/plain": [
              "<IPython.core.display.HTML object>"
            ],
            "text/html": [
              " View run at <a href='https://wandb.ai/ed23d015/DL_Assignment_2/runs/yjqf5rgm' target=\"_blank\">https://wandb.ai/ed23d015/DL_Assignment_2/runs/yjqf5rgm</a>"
            ]
          },
          "metadata": {}
        },
        {
          "output_type": "display_data",
          "data": {
            "text/plain": [
              "VBox(children=(Label(value='0.001 MB of 0.011 MB uploaded\\r'), FloatProgress(value=0.09397611367797054, max=1.…"
            ],
            "application/vnd.jupyter.widget-view+json": {
              "version_major": 2,
              "version_minor": 0,
              "model_id": "9f2687ca2c0b4e4da7faf127e44bd9c2"
            }
          },
          "metadata": {}
        },
        {
          "output_type": "display_data",
          "data": {
            "text/plain": [
              "<IPython.core.display.HTML object>"
            ],
            "text/html": [
              " View run <strong style=\"color:#cdcd00\">ethereal-sweep-2</strong> at: <a href='https://wandb.ai/ed23d015/DL_Assignment_2/runs/yjqf5rgm' target=\"_blank\">https://wandb.ai/ed23d015/DL_Assignment_2/runs/yjqf5rgm</a><br/> View project at: <a href='https://wandb.ai/ed23d015/DL_Assignment_2' target=\"_blank\">https://wandb.ai/ed23d015/DL_Assignment_2</a><br/>Synced 4 W&B file(s), 0 media file(s), 0 artifact file(s) and 0 other file(s)"
            ]
          },
          "metadata": {}
        },
        {
          "output_type": "display_data",
          "data": {
            "text/plain": [
              "<IPython.core.display.HTML object>"
            ],
            "text/html": [
              "Find logs at: <code>./wandb/run-20240406_172250-yjqf5rgm/logs</code>"
            ]
          },
          "metadata": {}
        },
        {
          "output_type": "stream",
          "name": "stderr",
          "text": [
            "Run yjqf5rgm errored:\n",
            "Traceback (most recent call last):\n",
            "  File \"/usr/local/lib/python3.10/dist-packages/wandb/agents/pyagent.py\", line 308, in _run_job\n",
            "    self._function()\n",
            "  File \"<ipython-input-48-0d0d6c1b55d6>\", line 77, in sweep_train\n",
            "    model = ECNN(input_shape=(3, 224, 224), num_classes=10, num_filters=num_filter, filter_size=filter_size, dense_neurons=128, batch_normalization=batch_normal, dropout=dropout, activation=activation)\n",
            "  File \"<ipython-input-46-cd8f3cde1627>\", line 22, in __init__\n",
            "    self.conv1 = nn.Conv2d(3, num_filters, filter_size)\n",
            "  File \"/usr/local/lib/python3.10/dist-packages/torch/nn/modules/conv.py\", line 447, in __init__\n",
            "    super().__init__(\n",
            "  File \"/usr/local/lib/python3.10/dist-packages/torch/nn/modules/conv.py\", line 90, in __init__\n",
            "    if out_channels % groups != 0:\n",
            "TypeError: unsupported operand type(s) for %: 'list' and 'int'\n",
            "\n",
            "\u001b[34m\u001b[1mwandb\u001b[0m: \u001b[32m\u001b[41mERROR\u001b[0m Run yjqf5rgm errored:\n",
            "\u001b[34m\u001b[1mwandb\u001b[0m: \u001b[32m\u001b[41mERROR\u001b[0m Traceback (most recent call last):\n",
            "\u001b[34m\u001b[1mwandb\u001b[0m: \u001b[32m\u001b[41mERROR\u001b[0m   File \"/usr/local/lib/python3.10/dist-packages/wandb/agents/pyagent.py\", line 308, in _run_job\n",
            "\u001b[34m\u001b[1mwandb\u001b[0m: \u001b[32m\u001b[41mERROR\u001b[0m     self._function()\n",
            "\u001b[34m\u001b[1mwandb\u001b[0m: \u001b[32m\u001b[41mERROR\u001b[0m   File \"<ipython-input-48-0d0d6c1b55d6>\", line 77, in sweep_train\n",
            "\u001b[34m\u001b[1mwandb\u001b[0m: \u001b[32m\u001b[41mERROR\u001b[0m     model = ECNN(input_shape=(3, 224, 224), num_classes=10, num_filters=num_filter, filter_size=filter_size, dense_neurons=128, batch_normalization=batch_normal, dropout=dropout, activation=activation)\n",
            "\u001b[34m\u001b[1mwandb\u001b[0m: \u001b[32m\u001b[41mERROR\u001b[0m   File \"<ipython-input-46-cd8f3cde1627>\", line 22, in __init__\n",
            "\u001b[34m\u001b[1mwandb\u001b[0m: \u001b[32m\u001b[41mERROR\u001b[0m     self.conv1 = nn.Conv2d(3, num_filters, filter_size)\n",
            "\u001b[34m\u001b[1mwandb\u001b[0m: \u001b[32m\u001b[41mERROR\u001b[0m   File \"/usr/local/lib/python3.10/dist-packages/torch/nn/modules/conv.py\", line 447, in __init__\n",
            "\u001b[34m\u001b[1mwandb\u001b[0m: \u001b[32m\u001b[41mERROR\u001b[0m     super().__init__(\n",
            "\u001b[34m\u001b[1mwandb\u001b[0m: \u001b[32m\u001b[41mERROR\u001b[0m   File \"/usr/local/lib/python3.10/dist-packages/torch/nn/modules/conv.py\", line 90, in __init__\n",
            "\u001b[34m\u001b[1mwandb\u001b[0m: \u001b[32m\u001b[41mERROR\u001b[0m     if out_channels % groups != 0:\n",
            "\u001b[34m\u001b[1mwandb\u001b[0m: \u001b[32m\u001b[41mERROR\u001b[0m TypeError: unsupported operand type(s) for %: 'list' and 'int'\n",
            "\u001b[34m\u001b[1mwandb\u001b[0m: \u001b[32m\u001b[41mERROR\u001b[0m \n",
            "\u001b[34m\u001b[1mwandb\u001b[0m: Agent Starting Run: 80phunlh with config:\n",
            "\u001b[34m\u001b[1mwandb\u001b[0m: \tactivation: relu\n",
            "\u001b[34m\u001b[1mwandb\u001b[0m: \tbatch_normal: True\n",
            "\u001b[34m\u001b[1mwandb\u001b[0m: \tdata_augmentation: False\n",
            "\u001b[34m\u001b[1mwandb\u001b[0m: \tdropout: 0.3\n",
            "\u001b[34m\u001b[1mwandb\u001b[0m: \tfilter_size: [5, 5, 5, 5, 5]\n",
            "\u001b[34m\u001b[1mwandb\u001b[0m: \tnum_filter: [32, 32, 32, 32, 32]\n",
            "\u001b[34m\u001b[1mwandb\u001b[0m: \u001b[33mWARNING\u001b[0m Ignored wandb.init() arg project when running a sweep.\n",
            "\u001b[34m\u001b[1mwandb\u001b[0m: \u001b[33mWARNING\u001b[0m Ignored wandb.init() arg entity when running a sweep.\n"
          ]
        },
        {
          "output_type": "display_data",
          "data": {
            "text/plain": [
              "<IPython.core.display.HTML object>"
            ],
            "text/html": [
              "Tracking run with wandb version 0.16.6"
            ]
          },
          "metadata": {}
        },
        {
          "output_type": "display_data",
          "data": {
            "text/plain": [
              "<IPython.core.display.HTML object>"
            ],
            "text/html": [
              "Run data is saved locally in <code>/content/wandb/run-20240406_172301-80phunlh</code>"
            ]
          },
          "metadata": {}
        },
        {
          "output_type": "display_data",
          "data": {
            "text/plain": [
              "<IPython.core.display.HTML object>"
            ],
            "text/html": [
              "Syncing run <strong><a href='https://wandb.ai/ed23d015/DL_Assignment_2/runs/80phunlh' target=\"_blank\">fragrant-sweep-3</a></strong> to <a href='https://wandb.ai/ed23d015/DL_Assignment_2' target=\"_blank\">Weights & Biases</a> (<a href='https://wandb.me/run' target=\"_blank\">docs</a>)<br/>Sweep page: <a href='https://wandb.ai/ed23d015/DL_Assignment_2/sweeps/3iatfv08' target=\"_blank\">https://wandb.ai/ed23d015/DL_Assignment_2/sweeps/3iatfv08</a>"
            ]
          },
          "metadata": {}
        },
        {
          "output_type": "display_data",
          "data": {
            "text/plain": [
              "<IPython.core.display.HTML object>"
            ],
            "text/html": [
              " View project at <a href='https://wandb.ai/ed23d015/DL_Assignment_2' target=\"_blank\">https://wandb.ai/ed23d015/DL_Assignment_2</a>"
            ]
          },
          "metadata": {}
        },
        {
          "output_type": "display_data",
          "data": {
            "text/plain": [
              "<IPython.core.display.HTML object>"
            ],
            "text/html": [
              " View sweep at <a href='https://wandb.ai/ed23d015/DL_Assignment_2/sweeps/3iatfv08' target=\"_blank\">https://wandb.ai/ed23d015/DL_Assignment_2/sweeps/3iatfv08</a>"
            ]
          },
          "metadata": {}
        },
        {
          "output_type": "display_data",
          "data": {
            "text/plain": [
              "<IPython.core.display.HTML object>"
            ],
            "text/html": [
              " View run at <a href='https://wandb.ai/ed23d015/DL_Assignment_2/runs/80phunlh' target=\"_blank\">https://wandb.ai/ed23d015/DL_Assignment_2/runs/80phunlh</a>"
            ]
          },
          "metadata": {}
        },
        {
          "output_type": "stream",
          "name": "stderr",
          "text": [
            "\u001b[34m\u001b[1mwandb\u001b[0m: Ctrl + C detected. Stopping sweep.\n"
          ]
        }
      ]
    },
    {
      "cell_type": "markdown",
      "source": [],
      "metadata": {
        "id": "BFIefz7Epeng"
      }
    }
  ]
}